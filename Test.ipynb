{
 "cells": [
  {
   "cell_type": "markdown",
   "metadata": {},
   "source": [
    "# TEST for learning Data Analysis\n",
    "<!-- TOC -->"
   ]
  },
  {
   "cell_type": "code",
   "execution_count": 1,
   "metadata": {},
   "outputs": [],
   "source": [
    "import pandas as pd\n",
    "import os\n",
    "import requests as req\n"
   ]
  },
  {
   "cell_type": "code",
   "execution_count": 2,
   "metadata": {},
   "outputs": [],
   "source": [
    "with open('test.txt','w') as f:\n",
    "    f.write('\\nest')"
   ]
  },
  {
   "cell_type": "code",
   "execution_count": null,
   "metadata": {},
   "outputs": [],
   "source": [
    "%ls"
   ]
  },
  {
   "cell_type": "code",
   "execution_count": 4,
   "metadata": {},
   "outputs": [
    {
     "name": "stdout",
     "output_type": "stream",
     "text": [
      "<_io.TextIOWrapper name='test.tsv' mode='r' encoding='UTF-8'>\n",
      "\n",
      "est\n"
     ]
    }
   ],
   "source": [
    "with open('test.tsv','r') as t:\n",
    "    t.read()\n",
    "    print(t)\n",
    "\n",
    "#tsv,csv can't be used to read\n",
    "\n",
    "with open('test.txt','r') as x:\n",
    "    print(x.read())\n",
    "    "
   ]
  },
  {
   "cell_type": "code",
   "execution_count": null,
   "metadata": {},
   "outputs": [],
   "source": [
    "data={'A':[1,2,3],'B':[4,5,6]}\n",
    "dataa={'A':[1,2,3],'B':[4,5,6]}\n",
    "df=pd.DataFrame(data)\n",
    "print(df)\n",
    "\n",
    "df['A']=df['A']+1\n",
    "print(df)\n",
    "df.to_csv('demoCsv.csv',index=None)\n",
    "df.to_csv('demoCsv.csv',mode='a',index=None)\n",
    "x=open('demoCsv.csv','a')\n",
    "x.write('\\n')\n",
    "df.to_csv('demoCsv.csv',mode='a',index=None,header=None)\n",
    "df.to_csv('deTsv.tsv')#tsv can't be imported to Excel\n",
    "\n",
    "pd.DataFrame(dataa).to_csv()"
   ]
  },
  {
   "cell_type": "code",
   "execution_count": null,
   "metadata": {
    "scrolled": true
   },
   "outputs": [],
   "source": [
    "# data3={'A':[1,2,3],'B':[4,5,6]}\n",
    "# df3=pd.DataFrame(data3)\n",
    "# df3.to_csv('data3.csv')\n",
    "df4=pd.read_csv('data3.csv')\n",
    "print(df4);print(df4.index.names)\n",
    "df5=pd.read_csv('data3.csv',index_col='test')\n",
    "print(df5);print(df5.index.names)\n",
    "\n",
    "#f=pd.read_csv('demoCsv.csv')"
   ]
  },
  {
   "cell_type": "code",
   "execution_count": null,
   "metadata": {
    "scrolled": true
   },
   "outputs": [],
   "source": [
    "help(open)"
   ]
  },
  {
   "cell_type": "code",
   "execution_count": 8,
   "metadata": {},
   "outputs": [],
   "source": [
    "# if 'tess' not in os.listdir():\n",
    "#     os.mkdir('tess')\n",
    "# os.chdir('tess')"
   ]
  },
  {
   "cell_type": "code",
   "execution_count": 38,
   "metadata": {},
   "outputs": [],
   "source": [
    "# import pytesseract\n",
    "# from PIL import Image\n",
    "# image=Image.open('yzm.png')\n",
    "# vcode=pytesseract.image_to_string(image)\n",
    "# Image._show(image)\n",
    "# print(vcode)"
   ]
  },
  {
   "cell_type": "code",
   "execution_count": 37,
   "metadata": {},
   "outputs": [],
   "source": [
    "# import pymysql.cursors\n",
    "# connection = pymysql.connect(host='localhost',\n",
    "#                              user='root',\n",
    "#                              password='yuyewei',\n",
    "#                              db='db',\n",
    "#                              charset='utf8mb4',\n",
    "#                              cursorclass=pymysql.cursors.DictCursor)"
   ]
  },
  {
   "cell_type": "markdown",
   "metadata": {},
   "source": [
    "### Numpy's practice"
   ]
  },
  {
   "cell_type": "code",
   "execution_count": null,
   "metadata": {},
   "outputs": [],
   "source": [
    "import numpy as np\n",
    "data=np.arange(1,100,dtype=np.float)  #Note that 'dtype=None' should be replaced with 'dtype=xxx'\n",
    "print(type(data))\n",
    "print(data.dtype)\n",
    "print(data)"
   ]
  },
  {
   "cell_type": "code",
   "execution_count": null,
   "metadata": {},
   "outputs": [],
   "source": [
    "lin=np.linspace(1,10,dtype=float)#evenly being sampled \n",
    "print(lin)"
   ]
  },
  {
   "cell_type": "code",
   "execution_count": 207,
   "metadata": {
    "scrolled": false
   },
   "outputs": [
    {
     "data": {
      "image/png": "[encoded data removed]",
      "text/plain": [
       "<Figure size 432x288 with 1 Axes>"
      ]
     },
     "metadata": {
      "needs_background": "light"
     },
     "output_type": "display_data"
    }
   ],
   "source": [
    "import matplotlib.pyplot as plt\n",
    "N=5\n",
    "y=np.zeros(N)\n",
    "x1=np.linspace(0,10,N,endpoint=True) #default is 'True'\n",
    "x2=np.linspace(0,10,N,endpoint=False)\n",
    "plt.plot(x1,y,'.')\n",
    "plt.plot(x2,y+0.4,'o')\n",
    "plt.ylim([-0.2,1]) #set the range of y-axis\n",
    "# plt.ylim(bottom=-0.4)\n",
    "plt.show()\n"
   ]
  },
  {
   "cell_type": "markdown",
   "metadata": {},
   "source": [
    "### Examples of Python's *args and **kwargs\n",
    "    Used for the uncertained paraments in function"
   ]
  },
  {
   "cell_type": "code",
   "execution_count": 155,
   "metadata": {},
   "outputs": [
    {
     "name": "stdout",
     "output_type": "stream",
     "text": [
      "Sun Nov  4 09:59:00 2018\n",
      "Hello,Mr Erving!\n"
     ]
    }
   ],
   "source": [
    "# Wrapper\n",
    "import time\n",
    "\n",
    "def showtime(fun):\n",
    "    def wrappe(*args,**kwargs):\n",
    "        print(time.ctime())\n",
    "        return fun(*args,**kwargs)\n",
    "    return wrappe\n",
    "\n",
    "@showtime\n",
    "def hello():\n",
    "    print(\"Hello,Mr Erving!\")\n",
    "    \n",
    "hello()"
   ]
  },
  {
   "cell_type": "code",
   "execution_count": null,
   "metadata": {},
   "outputs": [],
   "source": [
    "# *args being treated as List(Tuple)\n",
    "def testArgs(arg,*args):\n",
    "    print(arg)\n",
    "    print(args)\n",
    "testArgs(1,3,4,5)\n",
    "testArgs(1,3)\n",
    "testArgs(2,'fuck')\n",
    "\n",
    "# *args used for the uncetained number of parameters\n",
    "def targs(*rgs): # the other replacements of 'args' is ok\n",
    "    print(rgs)\n",
    "targs(2,2)"
   ]
  },
  {
   "cell_type": "code",
   "execution_count": null,
   "metadata": {},
   "outputs": [],
   "source": [
    "# **kwargs include the key, and is used in Dict\n",
    "def tkwargs(arg,**kwargs): # **kwargs==**{'a':1,'b':2}\n",
    "    print(arg)\n",
    "    for key in kwargs:\n",
    "        print(\"kwargs:%sdsf\"%kwargs[key])\n",
    "tkwargs(1,x=2)"
   ]
  },
  {
   "cell_type": "code",
   "execution_count": null,
   "metadata": {},
   "outputs": [],
   "source": [
    "# '*' just likes a pointer\n",
    "def tStar(a,b,c):\n",
    "    print(a,b,c)\n",
    "tStar(2,2,3)\n",
    "l=list(range(1,4))\n",
    "tStar(*l)\n",
    "ll=list(range(1,3))\n",
    "tStar(1,*ll)"
   ]
  },
  {
   "cell_type": "code",
   "execution_count": null,
   "metadata": {},
   "outputs": [],
   "source": []
  }
 ],
 "metadata": {
  "kernelspec": {
   "display_name": "Python 3",
   "language": "python",
   "name": "python3"
  },
  "language_info": {
   "codemirror_mode": {
    "name": "ipython",
    "version": 3
   },
   "file_extension": ".py",
   "mimetype": "text/x-python",
   "name": "python",
   "nbconvert_exporter": "python",
   "pygments_lexer": "ipython3",
   "version": "3.5.2"
  }
 },
 "nbformat": 4,
 "nbformat_minor": 2
}
