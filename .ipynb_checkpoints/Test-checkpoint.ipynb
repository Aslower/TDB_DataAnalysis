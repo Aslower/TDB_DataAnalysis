{
 "cells": [
  {
   "cell_type": "markdown",
   "metadata": {},
   "source": [
    "# TEST"
   ]
  },
  {
   "cell_type": "code",
   "execution_count": 1,
   "metadata": {},
   "outputs": [],
   "source": [
    "with open('test.txt','w') as f:\n",
    "    f.write('\\nest')"
   ]
  },
  {
   "cell_type": "code",
   "execution_count": 2,
   "metadata": {},
   "outputs": [
    {
     "name": "stdout",
     "output_type": "stream",
     "text": [
      "conf.py             deTsv.tsv     sampleSubmission.csv  test.tsv\r\n",
      "\u001b[0m\u001b[01;34mDataVisualisation\u001b[0m/  \u001b[01;34mPandas\u001b[0m/       Test.ipynb            test.txt\r\n",
      "demoCsv.csv         \u001b[01;34m__pycache__\u001b[0m/  test.py               train.tsv\r\n"
     ]
    }
   ],
   "source": [
    "%ls"
   ]
  },
  {
   "cell_type": "code",
   "execution_count": 3,
   "metadata": {},
   "outputs": [
    {
     "name": "stdout",
     "output_type": "stream",
     "text": [
      "<_io.TextIOWrapper name='test.tsv' mode='r' encoding='UTF-8'>\n",
      "\n",
      "est\n"
     ]
    }
   ],
   "source": [
    "with open('test.tsv','r') as t:\n",
    "    t.read()\n",
    "    print(t)\n",
    "\n",
    "#tsv,csv can't be used to read\n",
    "\n",
    "with open('test.txt','r') as x:\n",
    "    print(x.read())\n",
    "    "
   ]
  },
  {
   "cell_type": "code",
   "execution_count": 4,
   "metadata": {},
   "outputs": [],
   "source": [
    "import pandas as pd"
   ]
  },
  {
   "cell_type": "code",
   "execution_count": 12,
   "metadata": {},
   "outputs": [
    {
     "name": "stdout",
     "output_type": "stream",
     "text": [
      "   A  B\n",
      "0  1  4\n",
      "1  2  5\n",
      "2  3  6\n",
      "   A  B\n",
      "0  2  4\n",
      "1  3  5\n",
      "2  4  6\n"
     ]
    },
    {
     "data": {
      "text/plain": [
       "',A,B\\n0,1,4\\n1,2,5\\n2,3,6\\n'"
      ]
     },
     "execution_count": 12,
     "metadata": {},
     "output_type": "execute_result"
    }
   ],
   "source": [
    "data={'A':[1,2,3],'B':[4,5,6]}\n",
    "dataa={'A':[1,2,3],'B':[4,5,6]}\n",
    "df=pd.DataFrame(data)\n",
    "print(df)\n",
    "\n",
    "df['A']=df['A']+1\n",
    "print(df)\n",
    "df.to_csv('demoCsv.csv',index=None)\n",
    "df.to_csv('demoCsv.csv',mode='a',index=None)\n",
    "x=open('demoCsv.csv','a')\n",
    "x.write('\\n')\n",
    "df.to_csv('demoCsv.csv',mode='a',index=None,header=None)\n",
    "df.to_csv('deTsv.tsv')#tsv can't be imported to Excel\n",
    "\n",
    "pd.DataFrame(dataa).to_csv()"
   ]
  },
  {
   "cell_type": "code",
   "execution_count": 19,
   "metadata": {
    "scrolled": false
   },
   "outputs": [
    {
     "name": "stdout",
     "output_type": "stream",
     "text": [
      "   test  A  B\n",
      "0     0  1  4\n",
      "1     1  2  5\n",
      "2     2  3  6\n",
      "      A  B\n",
      "test      \n",
      "0     1  4\n",
      "1     2  5\n",
      "2     3  6\n"
     ]
    }
   ],
   "source": [
    "# data3={'A':[1,2,3],'B':[4,5,6]}\n",
    "# df3=pd.DataFrame(data3)\n",
    "# df3.to_csv('data3.csv')\n",
    "df3=pd.read_csv('data3.csv')\n",
    "print(df3)\n",
    "df3=pd.read_csv('data3.csv',index_col='test')\n",
    "print(df3)\n",
    "#f=pd.read_csv('demoCsv.csv')"
   ]
  }
 ],
 "metadata": {
  "kernelspec": {
   "display_name": "Python 3",
   "language": "python",
   "name": "python3"
  },
  "language_info": {
   "codemirror_mode": {
    "name": "ipython",
    "version": 3
   },
   "file_extension": ".py",
   "mimetype": "text/x-python",
   "name": "python",
   "nbconvert_exporter": "python",
   "pygments_lexer": "ipython3",
   "version": "3.5.2"
  }
 },
 "nbformat": 4,
 "nbformat_minor": 2
}
